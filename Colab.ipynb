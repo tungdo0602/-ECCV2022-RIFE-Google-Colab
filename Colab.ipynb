{
  "cells": [
    {
      "cell_type": "code",
      "execution_count": null,
      "metadata": {
        "id": "1wysVHxoN54f",
        "cellView": "form"
      },
      "outputs": [],
      "source": [
        "#@markdown ## 1. Clone repo and install requirements\n",
        "!git clone https://github.com/hzwer/arXiv2020-RIFE\n",
        "!mkdir /content/arXiv2020-RIFE/train_log\n",
        "%cd /content/arXiv2020-RIFE/train_log\n",
        "!gdown --id 1APIzVeI-4ZZCEuIRE1m6WYfSCaOsi_7_\n",
        "!7z e RIFE_trained_model_v3.6.zip\n",
        "%cd /content/arXiv2020-RIFE/\n",
        "!gdown --id 1i3xlKb7ax7Y70khcTcuePi6E7crO_dFc\n",
        "!pip3 install -r requirements.txt"
      ]
    },
    {
      "cell_type": "code",
      "source": [
        "#@markdown ## 2. Prepare Folder\n",
        "import os.path\n",
        "from os import path\n",
        "import shutil\n",
        "\n",
        "%cd /content/arXiv2020-RIFE\n",
        "\n",
        "print(\"Current Directory: \" + str(os.popen(\"pwd\").read()))\n",
        "if path.exists(\"./input_video\"):\n",
        "  shutil.rmtree('./input_video')\n",
        "  os.system(\"mkdir input_video\")\n",
        "else:\n",
        "  os.system(\"mkdir input_video\")\n",
        "\n",
        "if path.exists(\"./output\"):\n",
        "  shutil.rmtree('./output')\n",
        "  os.system(\"mkdir output\")\n",
        "else:\n",
        "  os.system(\"mkdir output\")\n",
        "\n",
        "if path.exists(\"./input_video/chunks\"):\n",
        "  shutil.rmtree('./input_video/chunks')\n",
        "  os.system(\"mkdir input_video/chunks\")\n",
        "else:\n",
        "  os.system(\"mkdir input_video/chunks\")\n",
        "\n",
        "if path.exists(\"./input_video/output_chunks\"):\n",
        "  shutil.rmtree(\"./input_video/output_chunks\")\n",
        "  os.system(\"mkdir input_video/output_chunks\")\n",
        "else:\n",
        "  os.system(\"mkdir input_video/output_chunks\")"
      ],
      "metadata": {
        "id": "LP0cdyL8DTGt",
        "cellView": "form"
      },
      "execution_count": null,
      "outputs": []
    },
    {
      "cell_type": "code",
      "source": [
        "#@markdown ## 3. Split video into chunks (duration in second)\n",
        "import os\n",
        "fileName = \"input.mp4\" #@param {type: \"string\"}\n",
        "durationPerChunk = 1 #@param {type: \"number\"}\n",
        "%cd /content/arXiv2020-RIFE/input_video\n",
        "os.popen(f\"ffmpeg -i {fileName} -acodec copy -f segment -segment_time {durationPerChunk} -vcodec copy -reset_timestamps 1 -map 0 ./chunks/chunk%d.mp4\").read()"
      ],
      "metadata": {
        "id": "8bItzJ6WBRaG",
        "cellView": "form"
      },
      "execution_count": null,
      "outputs": []
    },
    {
      "cell_type": "code",
      "execution_count": null,
      "metadata": {
        "id": "dnLn4aHHPzN3",
        "cellView": "form"
      },
      "outputs": [],
      "source": [
        "#@markdown ## 4. Start Processing\n",
        "!nvidia-smi\n",
        "import os, os.path\n",
        "\n",
        "exp = 2 #@param {type: \"number\"}\n",
        "fps = 60 #@param {type: \"number\"}\n",
        "UHD = True #@param {type: \"boolean\"}\n",
        "\n",
        "%cd /content/arXiv2020-RIFE\n",
        "\n",
        "chunks = len([c for c in os.listdir('./input_video/chunks') if os.path.isfile(os.path.join(\"./input_video/chunks\", c))])\n",
        "\n",
        "for i in range(chunks):\n",
        "  print(f\"Processing {i}/{chunks}\")\n",
        "  if UHD:\n",
        "    os.system(f\"python3 inference_video.py --exp={str(exp)} --UHD --fps=str(fps) --output=./input_video/output_chunks/chunk{i}.mp4 --video=./input_video/chunks/chunk{i}.mp4 --skip\")\n",
        "  else:\n",
        "    os.system(f\"python3 inference_video.py --exp={str(exp)} --fps=str(fps) --output=./input_video/output_chunks/chunk{i}.mp4 --video=./input_video/chunks/chunk{i}.mp4 --skip\")\n",
        "print(\"Done!\")"
      ]
    },
    {
      "cell_type": "code",
      "source": [
        "#@markdown ## Merge output chunks into 1 file (Optional)\n",
        "import os, os.path\n",
        "%cd /content/arXiv2020-RIFE/input_video\n",
        "output_chunks = len([c for c in os.listdir('./output_chunks') if os.path.isfile(os.path.join(\"./output_chunks\", c))])\n",
        "\n",
        "with open(\"chunks_concat.txt\", \"w\") as c:\n",
        "  for i in range(output_chunks):\n",
        "    c.write(\"file './output_chunks/chunk{}.mp4'\\n\".format(str(i)))\n",
        "\n",
        "%cd output_chunks\n",
        "!ffmpeg -f concat -safe 0 -i /content/arXiv2020-RIFE/input_video/chunks_concat.txt /content/arXiv2020-RIFE/output/final.mp4"
      ],
      "metadata": {
        "cellView": "form",
        "id": "HseSE-pTGJi_"
      },
      "execution_count": null,
      "outputs": []
    },
    {
      "cell_type": "code",
      "source": [
        "#@markdown ## Zip all output chunk (Optional)\n",
        "!zip -r /content/arXiv2020-RIFE/output/chunks.zip /content/arXiv2020-RIFE/input_video/output_chunks"
      ],
      "metadata": {
        "cellView": "form",
        "id": "GPFw7XKlLUea"
      },
      "execution_count": null,
      "outputs": []
    },
    {
      "cell_type": "code",
      "execution_count": null,
      "metadata": {
        "id": "dFIIrLv674Fb",
        "cellView": "form"
      },
      "outputs": [],
      "source": [
        "#@markdown ## Copy Chunk to drive (Optional)\n",
        "from google.colab import drive\n",
        "drive.mount('/mnt/gdrive', force_remount=True)\n",
        "\n",
        "!cp /content/arXiv2020-RIFE/output/chunks.zip /mnt/gdrive/MyDrive/"
      ]
    }
  ],
  "metadata": {
    "accelerator": "GPU",
    "colab": {
      "provenance": []
    },
    "kernelspec": {
      "display_name": "Python 3",
      "name": "python3"
    },
    "gpuClass": "premium"
  },
  "nbformat": 4,
  "nbformat_minor": 0
}
