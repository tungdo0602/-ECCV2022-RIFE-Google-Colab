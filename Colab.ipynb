{
  "cells": [
    {
      "cell_type": "markdown",
      "source": [
        "# Install Required stuffs"
      ],
      "metadata": {
        "id": "4gXpVvnnJuA_"
      }
    },
    {
      "cell_type": "code",
      "execution_count": null,
      "metadata": {
        "cellView": "form",
        "id": "1wysVHxoN54f"
      },
      "outputs": [],
      "source": [
        "#@markdown ## 1. Clone repo and install requirements\n",
        "!git clone https://github.com/hzwer/arXiv2020-RIFE\n",
        "!mkdir /content/arXiv2020-RIFE/train_log\n",
        "%cd /content/arXiv2020-RIFE/train_log\n",
        "!gdown --id 1APIzVeI-4ZZCEuIRE1m6WYfSCaOsi_7_\n",
        "!7z e RIFE_trained_model_v3.6.zip\n",
        "%cd /content/arXiv2020-RIFE/\n",
        "!gdown --id 1i3xlKb7ax7Y70khcTcuePi6E7crO_dFc\n",
        "!pip install -r requirements.txt\n",
        "!pip install moviepy\n",
        "!pip install imageio==2.4.1\n",
        "!pip install scikit-video"
      ]
    },
    {
      "cell_type": "code",
      "execution_count": null,
      "metadata": {
        "cellView": "form",
        "id": "LP0cdyL8DTGt"
      },
      "outputs": [],
      "source": [
        "#@markdown ## 2. Prepare Folder\n",
        "import os.path\n",
        "from os import path\n",
        "import shutil\n",
        "\n",
        "%cd /content/arXiv2020-RIFE\n",
        "\n",
        "print(\"Current Directory: \" + str(os.popen(\"pwd\").read()))\n",
        "if path.exists(\"./input_video\"):\n",
        "  shutil.rmtree('./input_video')\n",
        "  os.system(\"mkdir input_video\")\n",
        "else:\n",
        "  os.system(\"mkdir input_video\")\n",
        "\n",
        "if path.exists(\"./output\"):\n",
        "  shutil.rmtree('./output')\n",
        "  os.system(\"mkdir output\")\n",
        "else:\n",
        "  os.system(\"mkdir output\")\n",
        "\n",
        "if path.exists(\"./input_video/chunks\"):\n",
        "  shutil.rmtree('./input_video/chunks')\n",
        "  os.system(\"mkdir input_video/chunks\")\n",
        "else:\n",
        "  os.system(\"mkdir input_video/chunks\")\n",
        "\n",
        "if path.exists(\"./input_video/output_chunks\"):\n",
        "  shutil.rmtree(\"./input_video/output_chunks\")\n",
        "  os.system(\"mkdir input_video/output_chunks\")\n",
        "else:\n",
        "  os.system(\"mkdir input_video/output_chunks\")\n",
        "\n",
        "if path.exists(\"./input_video/stable_chunks\"):\n",
        "  shutil.rmtree(\"./input_video/stable_chunks\")\n",
        "  os.system(\"mkdir input_video/stable_chunks\")\n",
        "else:\n",
        "  os.system(\"mkdir input_video/stable_chunks\")"
      ]
    },
    {
      "cell_type": "code",
      "source": [
        "#@markdown #Method 1: Direct run\n",
        "!nvidia-smi\n",
        "import os, os.path\n",
        "import sys\n",
        "\n",
        "inputFileName = \"input.mp4\" #@param {type: \"string\"}\n",
        "outputFileName = \"output.mp4\" #@param {type: \"string\"}\n",
        "exp = 2 #@param {type: \"number\"}\n",
        "fps = 60 #@param {type: \"number\"}\n",
        "UHD = True #@param {type: \"boolean\"}\n",
        "\n",
        "%cd /content/arXiv2020-RIFE\n",
        "\n",
        "if UHD:\n",
        "  !python3 inference_video.py --exp=\"$exp\" --UHD --fps=\"$fps\" --output=./output/\"$outputFileName\" --video=./input_video/\"$inputFileName\" --skip\n",
        "else:\n",
        "  !python3 inference_video.py --exp=\"$exp\" --fps=\"$fps\" --output=./output/\"$outputFileName\" --video=./input_video/\"$inputFileName\" --skip"
      ],
      "metadata": {
        "cellView": "form",
        "id": "_v2Wic8oII_i"
      },
      "execution_count": null,
      "outputs": []
    },
    {
      "cell_type": "markdown",
      "source": [
        "# Method 2: Split video (For 4k video)"
      ],
      "metadata": {
        "id": "9yOD4rcLI_WS"
      }
    },
    {
      "cell_type": "code",
      "execution_count": null,
      "metadata": {
        "cellView": "form",
        "id": "8bItzJ6WBRaG"
      },
      "outputs": [],
      "source": [
        "#@markdown ## 3. Split video into chunks (duration in second)\n",
        "import os\n",
        "fileName = \"input.mp4\" #@param {type: \"string\"}\n",
        "durationPerChunk = 1 #@param {type: \"number\"}\n",
        "%cd /content/arXiv2020-RIFE/input_video\n",
        "os.system(f\"ffmpeg -i {fileName} -acodec copy -f segment -segment_time {durationPerChunk} -vcodec copy -reset_timestamps 1 -map 0 ./chunks/chunk%d.mp4\")\n",
        "print(\"Done!\")"
      ]
    },
    {
      "cell_type": "code",
      "execution_count": null,
      "metadata": {
        "cellView": "form",
        "id": "VFXII_EoI9qR"
      },
      "outputs": [],
      "source": [
        "#@markdown ## Change all chunk to same fps (prevent video speed change)\n",
        "import os, os.path\n",
        "import sys\n",
        "\n",
        "stablefps = \"30\" #@param [\"10\", \"20\", \"30\"] {type: \"string\"}\n",
        "\n",
        "%cd /content/arXiv2020-RIFE/input_video/\n",
        "\n",
        "chunks = len([c for c in os.listdir('./chunks') if os.path.isfile(os.path.join(\"./chunks\", c))])\n",
        "\n",
        "for i in range(chunks):\n",
        "  sys.stdout.write(f\"\\rProcessing {i}/{chunks}\")\n",
        "  sys.stdout.flush()\n",
        "  os.system(f\"ffmpeg -i ./chunks/chunk{i}.mp4 -filter:v fps=fps={stablefps} ./stable_chunks/chunk{i}.mp4\")\n",
        "print(\"\\nDone!\")"
      ]
    },
    {
      "cell_type": "code",
      "execution_count": null,
      "metadata": {
        "cellView": "form",
        "id": "dnLn4aHHPzN3"
      },
      "outputs": [],
      "source": [
        "#@markdown ## 4. Start Processing\n",
        "!nvidia-smi\n",
        "import os, os.path\n",
        "import sys\n",
        "\n",
        "exp = 2 #@param {type: \"number\"}\n",
        "fps = 60 #@param {type: \"number\"}\n",
        "UHD = True #@param {type: \"boolean\"}\n",
        "\n",
        "%cd /content/arXiv2020-RIFE\n",
        "\n",
        "chunks = len([c for c in os.listdir('./input_video/stable_chunks') if os.path.isfile(os.path.join(\"./input_video/stable_chunks\", c))])\n",
        "\n",
        "for i in range(chunks):\n",
        "  sys.stdout.write(f\"\\rProcessing {i}/{chunks}\")\n",
        "  sys.stdout.flush()\n",
        "  if UHD:\n",
        "    os.system(f\"python3 inference_video.py --exp={str(exp)} --UHD --fps={str(fps)} --output=./input_video/output_chunks/chunk{i}.mp4 --video=./input_video/stable_chunks/chunk{i}.mp4 --skip\")\n",
        "  else:\n",
        "    os.system(f\"python3 inference_video.py --exp={str(exp)} --fps={str(fps)} --output=./input_video/output_chunks/chunk{i}.mp4 --video=./input_video/stable_chunks/chunk{i}.mp4 --skip\")\n",
        "print(\"\\nDone!\")\n"
      ]
    },
    {
      "cell_type": "code",
      "execution_count": null,
      "metadata": {
        "cellView": "form",
        "id": "HseSE-pTGJi_"
      },
      "outputs": [],
      "source": [
        "#@markdown ## Merge output chunks into 1 file (Optional)\n",
        "import os, os.path\n",
        "from moviepy.editor import VideoFileClip, concatenate_videoclips\n",
        "\n",
        "%cd /content/arXiv2020-RIFE/input_video\n",
        "outputChunks = len([c for c in os.listdir('./output_chunks') if os.path.isfile(os.path.join(\"./output_chunks\", c))])\n",
        "outputVid = []\n",
        "for i in range(outputChunks):\n",
        "  outputVid.append(VideoFileClip(\"./output_chunks/chunk{}.mp4\".format(i)))\n",
        "\n",
        "final = concatenate_videoclips(outputVid)\n",
        "final.write_videofile(\"/content/arXiv2020-RIFE/output/final.mp4\")\n",
        "\n",
        "%cd output_chunks\n"
      ]
    },
    {
      "cell_type": "code",
      "execution_count": null,
      "metadata": {
        "cellView": "form",
        "id": "TydLlGaZISzm"
      },
      "outputs": [],
      "source": [
        "#@markdown ## Copy ouput file to drive (Optional)\n",
        "from google.colab import drive\n",
        "drive.mount('/mnt/gdrive', force_remount=True)\n",
        "\n",
        "!cp /content/arXiv2020-RIFE/output/final.mp4 /mnt/gdrive/MyDrive/"
      ]
    },
    {
      "cell_type": "code",
      "execution_count": null,
      "metadata": {
        "cellView": "form",
        "id": "GPFw7XKlLUea"
      },
      "outputs": [],
      "source": [
        "#@markdown ## Zip all output chunk (Optional)\n",
        "!zip -r /content/arXiv2020-RIFE/output/chunks.zip /content/arXiv2020-RIFE/input_video/output_chunks"
      ]
    },
    {
      "cell_type": "code",
      "execution_count": null,
      "metadata": {
        "cellView": "form",
        "id": "dFIIrLv674Fb"
      },
      "outputs": [],
      "source": [
        "#@markdown ## Copy Chunk to drive (Optional)\n",
        "from google.colab import drive\n",
        "drive.mount('/mnt/gdrive', force_remount=True)\n",
        "\n",
        "!cp /content/arXiv2020-RIFE/output/chunks.zip /mnt/gdrive/MyDrive/"
      ]
    }
  ],
  "metadata": {
    "accelerator": "GPU",
    "colab": {
      "provenance": [],
      "collapsed_sections": [
        "4gXpVvnnJuA_",
        "9yOD4rcLI_WS"
      ]
    },
    "gpuClass": "premium",
    "kernelspec": {
      "display_name": "Python 3",
      "name": "python3"
    }
  },
  "nbformat": 4,
  "nbformat_minor": 0
}
